{
 "cells": [
  {
   "cell_type": "markdown",
   "metadata": {},
   "source": [
    "# Word2Vec Implementation\n",
    "\n",
    "Date: 2018-01-23\n",
    "\n",
    "Reference: https://github.com/nlintz/TensorFlow-Tutorials/blob/master/08_word2vec.ipynb"
   ]
  },
  {
   "cell_type": "code",
   "execution_count": 2,
   "metadata": {
    "collapsed": true
   },
   "outputs": [],
   "source": [
    "import collections\n",
    "import numpy as np\n",
    "import tensorflow as tf\n",
    "import matplotlib\n",
    "import matplotlib.pyplot as plt\n",
    "%matplotlib inline"
   ]
  },
  {
   "cell_type": "markdown",
   "metadata": {},
   "source": [
    "# Configuration"
   ]
  },
  {
   "cell_type": "code",
   "execution_count": 40,
   "metadata": {
    "collapsed": true
   },
   "outputs": [],
   "source": [
    "batch_size=20\n",
    "embedding_size=2\n",
    "num_negativeSample=15"
   ]
  },
  {
   "cell_type": "markdown",
   "metadata": {},
   "source": [
    "# Dataset: Sample Sentences"
   ]
  },
  {
   "cell_type": "code",
   "execution_count": 8,
   "metadata": {},
   "outputs": [
    {
     "name": "stdout",
     "output_type": "stream",
     "text": [
      "The length of the sentence is 12\n"
     ]
    }
   ],
   "source": [
    "sentences = [\"the quick brown fox jumped over the lazy dog\",\n",
    "            \"I love cats and dogs\",\n",
    "            \"we all love cats and dogs\",\n",
    "            \"cats and dogs are great\",\n",
    "            \"sung likes cats\",\n",
    "            \"she loves dogs\",\n",
    "            \"cats can be very independent\",\n",
    "            \"cats are great companions when they want to be\",\n",
    "            \"cats are playful\",\n",
    "            \"cats are natural hunters\",\n",
    "            \"It's raining cats and dogs\",\n",
    "            \"dogs and cats love sung\"]\n",
    "print(\"The length of the sentence is\", len(sentences))"
   ]
  },
  {
   "cell_type": "markdown",
   "metadata": {},
   "source": [
    "# Sentence to Words (Just cut!)"
   ]
  },
  {
   "cell_type": "code",
   "execution_count": 14,
   "metadata": {},
   "outputs": [
    {
     "name": "stdout",
     "output_type": "stream",
     "text": [
      "The length of words is 62\n",
      "\n",
      "\n",
      "['the', 'quick', 'brown', 'fox', 'jumped', 'over', 'the', 'lazy', 'dog', 'I', 'love', 'cats', 'and', 'dogs', 'we', 'all', 'love', 'cats', 'and', 'dogs', 'cats', 'and', 'dogs', 'are', 'great', 'sung', 'likes', 'cats', 'she', 'loves', 'dogs', 'cats', 'can', 'be', 'very', 'independent', 'cats', 'are', 'great', 'companions', 'when', 'they', 'want', 'to', 'be', 'cats', 'are', 'playful', 'cats', 'are', 'natural', 'hunters', \"It's\", 'raining', 'cats', 'and', 'dogs', 'dogs', 'and', 'cats', 'love', 'sung']\n"
     ]
    }
   ],
   "source": [
    "words=\" \".join(sentences).split() # setnence를 Words단위로 split한다.\n",
    "print(\"The length of words is\", len(words))\n",
    "print(\"\\n\")\n",
    "print(words)"
   ]
  },
  {
   "cell_type": "markdown",
   "metadata": {},
   "source": [
    "# Sentence to Counts\n",
    "\n",
    "How many words appear in the data?"
   ]
  },
  {
   "cell_type": "code",
   "execution_count": 15,
   "metadata": {
    "collapsed": true
   },
   "outputs": [],
   "source": [
    "# 리스트 내의 요소가 몇번이나 반복되었는지 카운트를 해준다.\n",
    "# Counter().most_common(n):= 상위 n개를 return 해준다. \n",
    "# () 공백으로 비웠을 경우, 모든 element를 return 한다.\n",
    "count = collections.Counter(words).most_common()"
   ]
  },
  {
   "cell_type": "code",
   "execution_count": 16,
   "metadata": {},
   "outputs": [
    {
     "name": "stdout",
     "output_type": "stream",
     "text": [
      "[('cats', 10), ('dogs', 6), ('and', 5), ('are', 4), ('love', 3), ('the', 2), ('great', 2), ('sung', 2), ('be', 2), ('quick', 1), ('brown', 1), ('fox', 1), ('jumped', 1), ('over', 1), ('lazy', 1), ('dog', 1), ('I', 1), ('we', 1), ('all', 1), ('likes', 1), ('she', 1), ('loves', 1), ('can', 1), ('very', 1), ('independent', 1), ('companions', 1), ('when', 1), ('they', 1), ('want', 1), ('to', 1), ('playful', 1), ('natural', 1), ('hunters', 1), (\"It's\", 1), ('raining', 1)]\n"
     ]
    }
   ],
   "source": [
    "print(count) # count가 실제로 어떻게 구성되었는지 보자"
   ]
  },
  {
   "cell_type": "markdown",
   "metadata": {},
   "source": [
    "# Words vs. Count\n",
    "\n",
    "Words List와 Count List가 어떻게 구성되었는지 비교해보자"
   ]
  },
  {
   "cell_type": "code",
   "execution_count": 21,
   "metadata": {},
   "outputs": [
    {
     "name": "stdout",
     "output_type": "stream",
     "text": [
      "words: ['the', 'quick', 'brown', 'fox', 'jumped', 'over', 'the']\n",
      "count: [('cats', 10), ('dogs', 6), ('and', 5), ('are', 4), ('love', 3), ('the', 2), ('great', 2)]\n"
     ]
    }
   ],
   "source": [
    "print(\"words:\", words[0:7]) # 받은 dataset 내의 단어 순서대로 ordering 되어 있다.\n",
    "print(\"count:\", count[0:7]) # most_common(출현 빈도수) 기준으로 ordering 되어 있다."
   ]
  },
  {
   "cell_type": "markdown",
   "metadata": {},
   "source": [
    "# Build Dictionaries\n",
    "\n",
    "이제 슬슬 word vector를 만들어야 하기 때문에 단어에 인덱싱을 해보자"
   ]
  },
  {
   "cell_type": "code",
   "execution_count": 23,
   "metadata": {},
   "outputs": [
    {
     "name": "stdout",
     "output_type": "stream",
     "text": [
      "The total size of vocabulary is  35\n"
     ]
    }
   ],
   "source": [
    "rdic=[idx[0] for idx in count] # count list에 있는 {cats,10}, {dogs, 6} 이런것에서 단어들만 뽑아낸다.\n",
    "dic={w: idx for idx, w in enumerate(rdic)} # rdic에서 뽑아낸 단어들을 순서대로 0, 1, ...,(n-1) 인덱싱 한다.\n",
    "vocab_size=len(dic) # 우리가 얻은 dataset에 있는 총 단어의 갯수\n",
    "print(\"The total size of vocabulary is \", vocab_size)"
   ]
  },
  {
   "cell_type": "markdown",
   "metadata": {},
   "source": [
    "우리가 만든 rdic과 dic의 구성도 살펴보자"
   ]
  },
  {
   "cell_type": "code",
   "execution_count": 25,
   "metadata": {},
   "outputs": [
    {
     "name": "stdout",
     "output_type": "stream",
     "text": [
      "rdic:  ['cats', 'dogs', 'and', 'are', 'love', 'the', 'great', 'sung', 'be', 'quick', 'brown', 'fox', 'jumped', 'over', 'lazy', 'dog', 'I', 'we', 'all', 'likes', 'she', 'loves', 'can', 'very', 'independent', 'companions', 'when', 'they', 'want', 'to', 'playful', 'natural', 'hunters', \"It's\", 'raining']\n",
      "\n",
      "\n",
      "dic:  {'cats': 0, 'dogs': 1, 'and': 2, 'are': 3, 'love': 4, 'the': 5, 'great': 6, 'sung': 7, 'be': 8, 'quick': 9, 'brown': 10, 'fox': 11, 'jumped': 12, 'over': 13, 'lazy': 14, 'dog': 15, 'I': 16, 'we': 17, 'all': 18, 'likes': 19, 'she': 20, 'loves': 21, 'can': 22, 'very': 23, 'independent': 24, 'companions': 25, 'when': 26, 'they': 27, 'want': 28, 'to': 29, 'playful': 30, 'natural': 31, 'hunters': 32, \"It's\": 33, 'raining': 34}\n"
     ]
    }
   ],
   "source": [
    "print(\"rdic: \", rdic)\n",
    "print(\"\\n\")\n",
    "print(\"dic: \", dic)"
   ]
  },
  {
   "cell_type": "markdown",
   "metadata": {},
   "source": [
    "만약, dictionary에서 dog의 인덱싱번호를 알고싶다면?"
   ]
  },
  {
   "cell_type": "code",
   "execution_count": 26,
   "metadata": {},
   "outputs": [
    {
     "name": "stdout",
     "output_type": "stream",
     "text": [
      "15\n"
     ]
    }
   ],
   "source": [
    "print(dic['dog'])"
   ]
  },
  {
   "cell_type": "code",
   "execution_count": 27,
   "metadata": {},
   "outputs": [
    {
     "name": "stdout",
     "output_type": "stream",
     "text": [
      "dog\n"
     ]
    }
   ],
   "source": [
    "print(rdic[15]) # 확인되었다!"
   ]
  },
  {
   "cell_type": "markdown",
   "metadata": {},
   "source": [
    "# Make Indexed word data (ordered)\n",
    "\n",
    "우리가 받은 dataset(word로 구분된)에 아까 인덱싱한 번호를 부여해보자!"
   ]
  },
  {
   "cell_type": "code",
   "execution_count": 28,
   "metadata": {},
   "outputs": [
    {
     "name": "stdout",
     "output_type": "stream",
     "text": [
      "[5, 9, 10, 11, 12, 13, 5, 14, 15, 16, 4, 0, 2, 1, 17, 18, 4, 0, 2, 1, 0, 2, 1, 3, 6, 7, 19, 0, 20, 21, 1, 0, 22, 8, 23, 24, 0, 3, 6, 25, 26, 27, 28, 29, 8, 0, 3, 30, 0, 3, 31, 32, 33, 34, 0, 2, 1, 1, 2, 0, 4, 7]\n"
     ]
    }
   ],
   "source": [
    "data=[dic[i] for i in words]\n",
    "print(data)"
   ]
  },
  {
   "cell_type": "markdown",
   "metadata": {},
   "source": [
    "# Create Cbow_pairs"
   ]
  },
  {
   "cell_type": "code",
   "execution_count": 33,
   "metadata": {},
   "outputs": [
    {
     "name": "stdout",
     "output_type": "stream",
     "text": [
      "[[[5, 10], 9], [[9, 11], 10], [[10, 12], 11], [[11, 13], 12], [[12, 5], 13], [[13, 14], 5], [[5, 15], 14], [[14, 16], 15], [[15, 4], 16], [[16, 0], 4]]\n"
     ]
    }
   ],
   "source": [
    "cbow_pairs=[]\n",
    "# cbow 에서의 input은 현재 i번째 단어 기준으로 양쪽 window size 1만큼의 단어\n",
    "# cbow 에서의 output은 현재 i번째 단어\n",
    "# 이를 하기 위해, cbow_pair를 만듬 by using indexed words\n",
    "for i in range(1, len(data)-1):\n",
    "    cbow_pairs.append([[data[i-1], data[i+1]], data[i]]);\n",
    "print(cbow_pairs[:10])"
   ]
  },
  {
   "cell_type": "code",
   "execution_count": 35,
   "metadata": {},
   "outputs": [
    {
     "name": "stdout",
     "output_type": "stream",
     "text": [
      "60\n"
     ]
    }
   ],
   "source": [
    "print(len(cbow_pairs)) # cbow_pair가 몇개있는지 확인해보자"
   ]
  },
  {
   "cell_type": "markdown",
   "metadata": {},
   "source": [
    "# Create Skip-gram pairs"
   ]
  },
  {
   "cell_type": "code",
   "execution_count": 36,
   "metadata": {},
   "outputs": [
    {
     "name": "stdout",
     "output_type": "stream",
     "text": [
      "[[9, 5], [9, 10], [10, 9], [10, 11], [11, 10]]\n"
     ]
    }
   ],
   "source": [
    "skip_gram_pairs=[]\n",
    "# cp[1]의 의미: [[i-1번째 단어, i+!번째 단어], i번째 단어] 중 i번째 단어를 의미\n",
    "# cp[0][0]의 의미: [[i-1번째 단어, i+!번째 단어], i번째 단어] 중 i-1번째 단어를 의미\n",
    "# cp[0][1]의 의미: [[i-1번째 단어, i+!번째 단어], i번째 단어] 중 i+1번째 단어를 의미\n",
    "# 결국 이것이 하고자 하는 바는,\n",
    "# [i번째 단어, i-1번째 단어], [i번째 단어, i+1번째 단어]를 pair로 만들고 싶다는 의미\n",
    "\n",
    "for cp in cbow_pairs:\n",
    "    skip_gram_pairs.append([cp[1], cp[0][0]])\n",
    "    skip_gram_pairs.append([cp[1], cp[0][1]])\n",
    "    \n",
    "print(skip_gram_pairs[:5])"
   ]
  },
  {
   "cell_type": "markdown",
   "metadata": {},
   "source": [
    "# Generate Batch"
   ]
  },
  {
   "cell_type": "code",
   "execution_count": 39,
   "metadata": {},
   "outputs": [
    {
     "name": "stdout",
     "output_type": "stream",
     "text": [
      "([4, 0, 1], [[16], [22], [2]])\n"
     ]
    }
   ],
   "source": [
    "def generate_batch(size):\n",
    "    assert size < len(skip_gram_pairs) # batch size가 skip_gram_pair size보다 작으면 진행\n",
    "    x_data=[]\n",
    "    y_data=[]\n",
    "    # random choice의 의미: skip_gram pair중에 random하게 몇번째 skip_gram pair를 쓸지 size만큼 list를 만들어낸다.\n",
    "    # replace=False의 의미: no repeated elements\n",
    "    # 이제 그 list가 r로 만들어졌다면,\n",
    "    # x_data, y_data로 만들어준다.\n",
    "    # Batch를 random하게 sampling한다고 생각하면 된다.\n",
    "    r=np.random.choice(range(len(skip_gram_pairs)), size, replace=False)\n",
    "    for i in r:\n",
    "        x_data.append(skip_gram_pairs[i][0])\n",
    "        y_data.append([skip_gram_pairs[i][1]])\n",
    "    return x_data, y_data\n",
    "\n",
    "print(generate_batch(3))"
   ]
  },
  {
   "cell_type": "markdown",
   "metadata": {},
   "source": [
    "# Construct network"
   ]
  },
  {
   "cell_type": "code",
   "execution_count": 41,
   "metadata": {
    "collapsed": true
   },
   "outputs": [],
   "source": [
    "# training input\n",
    "train_inputs=tf.placeholder(tf.int32, shape=[batch_size])\n",
    "\n",
    "# training output\n",
    "train_output=tf.placeholder(tf.int32, shape=[batch_size, 1])\n",
    "\n",
    "# Embeddings for inputs\n",
    "# Embedding matrix (Vocabsize X Embedding Size)를 uniform random하게 -1에서 1사이로 initialise 해준다.\n",
    "# Lookup table의 의미: 행렬에 embedding matrix와 training inputs 저장\n",
    "embeddings=tf.Variable(tf.random_uniform([vocab_size, embedding_size], -1.0, 1.0))\n",
    "embed=tf.nn.embedding_lookup(embeddings, train_inputs) # Lookup table\n",
    "\n",
    "# Weights Matrix: random uniform (-1,1)사이로 초기화시키기\n",
    "nce_weights=tf.Variable(tf.random_uniform([vocab_size, embedding_size], -1.0, 1.0))\n",
    "# Biases vecotr: 0으로 vocabulary size만큼 초기화시키기\n",
    "nce_biases=tf.Variable(tf.zeros([vocab_size]))\n",
    "\n",
    "# Loss 계산 for the Batch\n",
    "# tf.nn.nce_loss의 의미: NCE 손실함수를 사용한다.\n",
    "# NCE = Noise-Contrastive Estimation Loss Function defined for Negative Sampling\n",
    "# NCE의 컨셉의미: 실제 단어에는 높은 확률을 부여하고, 노이즈 단어들에는 낮은 확률을 부여하는 것\n",
    "# tf.nn.nce_loss: loss를 계산할 때마다 negative labels를 가진 새로운 샘플을 자동으로 생성한다.(?)\n",
    "loss=tf.reduce_mean(\n",
    "    tf.nn.nce_loss(weights=nce_weights, biases=nce_biases, inputs=embed, labels=train_output, num_sampled=num_negativeSample, num_classes=vocab_size))\n",
    "\n",
    "# Adam Optimizer\n",
    "# Adam Optimizer의 의미: 빨리 수렴하게 하는 방법 중 하나\n",
    "# Learning rate = 0.01\n",
    "train_op=tf.train.AdamOptimizer(0.01).minimize(loss)"
   ]
  },
  {
   "cell_type": "markdown",
   "metadata": {},
   "source": [
    "# Run word2Vec!"
   ]
  },
  {
   "cell_type": "code",
   "execution_count": 45,
   "metadata": {},
   "outputs": [
    {
     "name": "stdout",
     "output_type": "stream",
     "text": [
      "WARNING:tensorflow:From C:\\udemy\\lib\\site-packages\\tensorflow\\python\\util\\tf_should_use.py:170: initialize_all_variables (from tensorflow.python.ops.variables) is deprecated and will be removed after 2017-03-02.\n",
      "Instructions for updating:\n",
      "Use `tf.global_variables_initializer` instead.\n",
      "Loss at the step 0 is 19.01916\n",
      "Loss at the step 100 is 8.13440\n",
      "Loss at the step 200 is 3.90518\n",
      "Loss at the step 300 is 4.01362\n",
      "Loss at the step 400 is 3.53714\n",
      "Loss at the step 500 is 3.28075\n",
      "Loss at the step 600 is 3.35736\n",
      "Loss at the step 700 is 3.08029\n",
      "Loss at the step 800 is 3.45209\n",
      "Loss at the step 900 is 3.17329\n",
      "Loss at the step 1000 is 2.94703\n",
      "Loss at the step 1100 is 3.51902\n",
      "Loss at the step 1200 is 3.28538\n",
      "Loss at the step 1300 is 3.20617\n",
      "Loss at the step 1400 is 2.98876\n",
      "Loss at the step 1500 is 3.21382\n",
      "Loss at the step 1600 is 3.10652\n",
      "Loss at the step 1700 is 3.19409\n",
      "Loss at the step 1800 is 3.10234\n",
      "Loss at the step 1900 is 2.92681\n",
      "Loss at the step 2000 is 3.06823\n",
      "Loss at the step 2100 is 2.94842\n",
      "Loss at the step 2200 is 3.07811\n",
      "Loss at the step 2300 is 3.25209\n",
      "Loss at the step 2400 is 2.80193\n",
      "Loss at the step 2500 is 2.82101\n",
      "Loss at the step 2600 is 3.13590\n",
      "Loss at the step 2700 is 2.92625\n",
      "Loss at the step 2800 is 2.97417\n",
      "Loss at the step 2900 is 2.76616\n",
      "Loss at the step 3000 is 2.90645\n",
      "Loss at the step 3100 is 3.17394\n",
      "Loss at the step 3200 is 3.07014\n",
      "Loss at the step 3300 is 2.81317\n",
      "Loss at the step 3400 is 3.14075\n",
      "Loss at the step 3500 is 3.01571\n",
      "Loss at the step 3600 is 2.94453\n",
      "Loss at the step 3700 is 2.81633\n",
      "Loss at the step 3800 is 2.70610\n",
      "Loss at the step 3900 is 2.79604\n",
      "Loss at the step 4000 is 2.75646\n",
      "Loss at the step 4100 is 2.82772\n",
      "Loss at the step 4200 is 2.98854\n",
      "Loss at the step 4300 is 2.83060\n",
      "Loss at the step 4400 is 2.58567\n",
      "Loss at the step 4500 is 2.55631\n",
      "Loss at the step 4600 is 2.79033\n",
      "Loss at the step 4700 is 2.77067\n",
      "Loss at the step 4800 is 2.59709\n",
      "Loss at the step 4900 is 2.66611\n"
     ]
    }
   ],
   "source": [
    "# Launch the graph in a session\n",
    "with tf.Session() as sess:\n",
    "    tf.initialize_all_variables().run()\n",
    "    \n",
    "    for step in range(5000):\n",
    "        batch_inputs, batch_output = generate_batch(batch_size)\n",
    "        _, loss_val=sess.run([train_op, loss], feed_dict={train_inputs: batch_inputs, train_output: batch_output})\n",
    "        if step % 100 == 0:\n",
    "            print(\"Loss at the step %d is %.5f\" %(step, loss_val))\n",
    "    \n",
    "    # Final Embeddings\n",
    "    # eval()의 의미: 문자열을 실행한 결과값 return\n",
    "    trained_embeddings = embeddings.eval()"
   ]
  },
  {
   "cell_type": "code",
   "execution_count": 46,
   "metadata": {},
   "outputs": [
    {
     "data": {
      "text/plain": [
       "(35, 2)"
      ]
     },
     "execution_count": 46,
     "metadata": {},
     "output_type": "execute_result"
    }
   ],
   "source": [
    "trained_embeddings.shape"
   ]
  },
  {
   "cell_type": "code",
   "execution_count": 47,
   "metadata": {},
   "outputs": [
    {
     "name": "stdout",
     "output_type": "stream",
     "text": [
      "35\n"
     ]
    }
   ],
   "source": [
    "print(vocab_size)"
   ]
  },
  {
   "cell_type": "markdown",
   "metadata": {},
   "source": [
    "# Plot Results\n",
    "\n",
    "Plot Word2vec when embedding size is 2"
   ]
  },
  {
   "cell_type": "code",
   "execution_count": 48,
   "metadata": {},
   "outputs": [
    {
     "name": "stdout",
     "output_type": "stream",
     "text": [
      "[[-4.3618722   0.10700534]\n",
      " [-6.38391161  0.4664636 ]\n",
      " [-3.91290402  4.14228678]\n",
      " [-0.15818548  5.30797243]\n",
      " [ 0.01881921  6.0780282 ]\n",
      " [-0.37260032  1.10592616]\n",
      " [-2.14562201  0.34403551]\n",
      " [-0.69799215  1.21435916]\n",
      " [-0.7658056   1.30669761]\n",
      " [ 0.12967163  2.67524672]\n",
      " [-1.12511432  0.34218532]\n",
      " [ 0.27279338  3.78863263]\n",
      " [-0.75296992  0.54229659]\n",
      " [ 0.10826022  2.45220542]\n",
      " [-0.27550861  1.10808837]\n",
      " [-0.02810714  2.31940937]\n",
      " [-2.23359966  0.04854407]\n",
      " [-0.07485858  7.31920624]\n",
      " [-4.27003527  0.01279355]\n",
      " [-0.48502484  5.68641376]\n",
      " [-5.07944536  1.09617853]\n",
      " [-5.77786255  0.40393871]\n",
      " [-2.53349495  0.69428182]\n",
      " [-2.37904477  0.17847686]\n",
      " [-0.32969964  3.56110883]\n",
      " [-0.20349298  2.15235019]\n",
      " [-1.06992054  0.56072778]\n",
      " [-0.36699566  1.25629938]\n",
      " [-0.76630569  0.86080134]\n",
      " [-1.08926606  0.66645718]\n",
      " [-4.84343719  0.54848105]\n",
      " [-2.79810715  0.13097832]\n",
      " [ 0.07285771  4.11188889]\n",
      " [-2.56277752  0.0958671 ]\n",
      " [ 0.04580789  4.98284054]]\n"
     ]
    }
   ],
   "source": [
    "print(trained_embeddings)"
   ]
  },
  {
   "cell_type": "code",
   "execution_count": 69,
   "metadata": {},
   "outputs": [
    {
     "data": {
      "image/png": "[encoded data removed]",
      "text/plain": [
       "<matplotlib.figure.Figure at 0xbd05de1358>"
      ]
     },
     "metadata": {},
     "output_type": "display_data"
    },
    {
     "data": {
      "text/plain": [
       "<matplotlib.figure.Figure at 0xbd06efecc0>"
      ]
     },
     "metadata": {},
     "output_type": "display_data"
    }
   ],
   "source": [
    "if trained_embeddings.shape[1]==2:\n",
    "    labels=rdic[:20] # 가장 frequent한 top 20 단어들을 뽑아낸다.\n",
    "    for i,label in enumerate(labels):\n",
    "        x,y=trained_embeddings[i,:]\n",
    "        plt.scatter(x, y)\n",
    "        plt.annotate(label, xy=(x,y), xytext=(5,2), textcoords='offset points', ha='right', va='bottom')\n",
    "    plt.show()\n",
    "    plt.savefig('Word2Vec.png')"
   ]
  },
  {
   "cell_type": "code",
   "execution_count": null,
   "metadata": {
    "collapsed": true
   },
   "outputs": [],
   "source": []
  }
 ],
 "metadata": {
  "kernelspec": {
   "display_name": "Python 3",
   "language": "python",
   "name": "python3"
  },
  "language_info": {
   "codemirror_mode": {
    "name": "ipython",
    "version": 3
   },
   "file_extension": ".py",
   "mimetype": "text/x-python",
   "name": "python",
   "nbconvert_exporter": "python",
   "pygments_lexer": "ipython3",
   "version": "3.6.3"
  }
 },
 "nbformat": 4,
 "nbformat_minor": 2
}
